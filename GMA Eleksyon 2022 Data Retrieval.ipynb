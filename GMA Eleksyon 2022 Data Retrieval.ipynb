{
 "cells": [
  {
   "cell_type": "code",
   "execution_count": 1,
   "id": "63ab86b4",
   "metadata": {
    "ExecuteTime": {
     "end_time": "2022-05-10T04:35:49.753750Z",
     "start_time": "2022-05-10T04:35:49.535799Z"
    }
   },
   "outputs": [],
   "source": [
    "import numpy as np\n",
    "import requests\n",
    "import json\n",
    "import time"
   ]
  },
  {
   "cell_type": "markdown",
   "id": "69e81edc",
   "metadata": {},
   "source": [
    "# Get Region Names"
   ]
  },
  {
   "cell_type": "code",
   "execution_count": 2,
   "id": "634f35c2",
   "metadata": {
    "ExecuteTime": {
     "end_time": "2022-05-10T04:36:10.070150Z",
     "start_time": "2022-05-10T04:36:09.958194Z"
    }
   },
   "outputs": [],
   "source": [
    "regions_req = requests.get('https://eleksyonconfig.gmanetwork.com/gno/microsites/eleksyon2022/results/ref/NO/geolocation_REGION.json')\n",
    "regions_txt = regions_req.text\n",
    "regions_json = json.loads(regions_txt)"
   ]
  },
  {
   "cell_type": "markdown",
   "id": "94392e67",
   "metadata": {},
   "source": [
    "# Get Province Names per Region\n",
    "Note that this was done manually as URLs were patterned differently for each region."
   ]
  },
  {
   "cell_type": "code",
   "execution_count": 3,
   "id": "caeb5e4c",
   "metadata": {
    "ExecuteTime": {
     "end_time": "2022-05-10T04:37:05.236467Z",
     "start_time": "2022-05-10T04:37:05.223472Z"
    }
   },
   "outputs": [],
   "source": [
    "car = json.loads('{\"PROVINCE\":[\"ABRA\",\"APAYAO\",\"BENGUET\",\"IFUGAO\",\"KALINGA\",\"MOUNTAIN PROVINCE\"],\"registered_voters\":\"1077900\"}')\n",
    "region1 = json.loads('{\"PROVINCE\":[\"ILOCOS NORTE\",\"ILOCOS SUR\",\"LA UNION\",\"PANGASINAN\"],\"registered_voters\":\"3546065\"}')\n",
    "region2 = json.loads('{\"PROVINCE\":[\"BATANES\",\"CAGAYAN\",\"ISABELA\",\"NUEVA VIZCAYA\",\"QUIRINO\"],\"registered_voters\":\"2312797\"}')\n",
    "region3 = json.loads('{\"PROVINCE\":[\"AURORA\",\"BATAAN\",\"BULACAN\",\"NUEVA ECIJA\",\"PAMPANGA\",\"TARLAC\",\"ZAMBALES\"],\"registered_voters\":\"7289791\"}')\n",
    "region4A = json.loads('{\"PROVINCE\":[\"BATANGAS\",\"CAVITE\",\"LAGUNA\",\"QUEZON\",\"RIZAL\"],\"registered_voters\":\"9193096\"}')\n",
    "region4B = json.loads('{\"PROVINCE\":[\"MARINDUQUE\",\"OCCIDENTAL MINDORO\",\"ORIENTAL MINDORO\",\"PALAWAN\",\"ROMBLON\"],\"registered_voters\":\"1991599\"}')\n",
    "region5 = json.loads('{\"PROVINCE\":[\"ALBAY\",\"CAMARINES NORTE\",\"CAMARINES SUR\",\"CATANDUANES\",\"MASBATE\",\"SORSOGON\"],\"registered_voters\":\"3910261\"}')\n",
    "region6 = json.loads('{\"PROVINCE\":[\"AKLAN\",\"ANTIQUE\",\"CAPIZ\",\"GUIMARAS\",\"ILOILO\",\"NEGROS OCCIDENTAL\"],\"registered_voters\":\"5026482\"}')\n",
    "region7 = json.loads('{\"PROVINCE\":[\"BOHOL\",\"CEBU\",\"NEGROS ORIENTAL\",\"SIQUIJOR\"],\"registered_voters\":\"5249066\"}')\n",
    "region8 = json.loads('{\"PROVINCE\":[\"BILIRAN\",\"EASTERN SAMAR\",\"LEYTE\",\"NORTHERN SAMAR\",\"SAMAR\",\"SOUTHERN LEYTE\"],\"registered_voters\":\"3166260\"}')\n",
    "region9 = json.loads('{\"PROVINCE\":[\"ZAMBOANGA DEL NORTE\",\"ZAMBOANGA DEL SUR\",\"ZAMBOANGA SIBUGAY\"],\"registered_voters\":\"2298930\"}')\n",
    "region10 = json.loads('{\"PROVINCE\":[\"BUKIDNON\",\"CAMIGUIN\",\"LANAO DEL NORTE\",\"MISAMIS OCCIDENTAL\",\"MISAMIS ORIENTAL\"],\"registered_voters\":\"3060485\"}')\n",
    "region11 = json.loads('{\"PROVINCE\":[\"DAVAO DE ORO\",\"DAVAO DEL NORTE\",\"DAVAO DEL SUR\",\"DAVAO OCCIDENTAL\",\"DAVAO ORIENTAL\"],\"registered_voters\":\"3236251\"}')\n",
    "region12 = json.loads('{\"PROVINCE\":[\"COTABATO\",\"SARANGANI\",\"SOUTH COTABATO\",\"SULTAN KUDARAT\"],\"registered_voters\":\"2606492\"}')\n",
    "barmm = json.loads('{\"PROVINCE\":[\"BASILAN\",\"LANAO DEL SUR\",\"MAGUINDANAO\",\"SULU\",\"TAWI-TAWI\"],\"registered_voters\":\"2588193\"}')\n",
    "oav = json.loads('{\"PROVINCE\":[\"AMERICAS\",\"ASIA PACIFIC\",\"EUROPE\",\"MIDDLE EAST AND AFRICAS\"],\"registered_voters\":\"1697090\"}')"
   ]
  },
  {
   "cell_type": "code",
   "execution_count": 4,
   "id": "e8cc809a",
   "metadata": {
    "ExecuteTime": {
     "end_time": "2022-05-10T04:37:21.519181Z",
     "start_time": "2022-05-10T04:37:21.510647Z"
    }
   },
   "outputs": [],
   "source": [
    "json_keys = ['CORDILLERA ADMINISTRATIVE REGION', 'REGION I','REGION II','REGION III','REGION IV-A','REGION IV-B',\n",
    "             'REGION V', 'REGION VI', 'REGION VII', 'REGION VIII', 'REGION IX', 'REGION X',\n",
    "             'REGION XI', 'REGION XII', 'BARMM', 'OAV']\n",
    "json_values = [car, region1, region2, region3, region4A, region4B,\n",
    "               region5, region6, region7, region8, region9, region10,\n",
    "               region11, region12, barmm, oav]\n",
    "data = dict(zip(json_keys, json_values))"
   ]
  },
  {
   "cell_type": "markdown",
   "id": "e40e10a1",
   "metadata": {},
   "source": [
    "# Data Scraper"
   ]
  },
  {
   "cell_type": "code",
   "execution_count": 5,
   "id": "01f32ed1",
   "metadata": {
    "ExecuteTime": {
     "end_time": "2022-05-10T04:37:43.568785Z",
     "start_time": "2022-05-10T04:37:43.559556Z"
    }
   },
   "outputs": [],
   "source": [
    "headers = {'authority': 'e22c.gmanetwork.com',\n",
    "          'accept': 'application/json, text/javascript, */*; q=0.01',\n",
    "          'accept-language': 'en-US,en;q=0.9,fil;q=0.8',\n",
    "          'if-none-match': '1652144166',\n",
    "          'origin': 'https://www.gmanetwork.com',\n",
    "          'referer': 'https://www.gmanetwork.com/',\n",
    "          'sec-ch-ua': 'Not A;Brand\";v=\"99\", \"Chromium\";v=\"101\", \"Google Chrome\";v=\"101\"',\n",
    "          'sec-ch-ua-mobile': '?0',\n",
    "          'sec-ch-ua-platform': 'Windows',\n",
    "          'sec-fetch-dest': 'empty',\n",
    "          'sec-fetch-site': 'same-site',\n",
    "          'user-agent' : 'Mozilla/5.0 (Windows NT 10.0; Win64; x64) AppleWebKit/537.36 (KHTML, like Gecko) Chrome/101.0.4951.54 Safari/537.36' \n",
    "         }"
   ]
  },
  {
   "cell_type": "code",
   "execution_count": null,
   "id": "e26a57c6",
   "metadata": {},
   "outputs": [],
   "source": [
    "for k,v in data.items():\n",
    "    for prov in v['PROVINCE']:\n",
    "        print(k, prov)\n",
    "        prov_data = '_'.join(k.split()) + '_' + '_'.join(prov.split())\n",
    "        data[k]['PROVINCIAL_DATA'] = {}\n",
    "        data[k]['PROVINCIAL_DATA'][prov] = {}\n",
    "        for i in tqdm(range(1,65)): #Changes wrt time (See bash script for verifying existence of batch file)\n",
    "            req = requests.get(f'https://e22vh.gmanetwork.com/batch/{i}/{prov_data}.json',\n",
    "                               headers = headers)\n",
    "            data[k]['PROVINCIAL_DATA'][prov][i] = json.loads(req.text)\n",
    "            time.sleep(0.5)\n",
    "        time.sleep(np.random.randint(1,3))"
   ]
  }
 ],
 "metadata": {
  "kernelspec": {
   "display_name": "Python 3 (ipykernel)",
   "language": "python",
   "name": "python3"
  },
  "language_info": {
   "codemirror_mode": {
    "name": "ipython",
    "version": 3
   },
   "file_extension": ".py",
   "mimetype": "text/x-python",
   "name": "python",
   "nbconvert_exporter": "python",
   "pygments_lexer": "ipython3",
   "version": "3.9.7"
  },
  "toc": {
   "base_numbering": 1,
   "nav_menu": {},
   "number_sections": true,
   "sideBar": true,
   "skip_h1_title": false,
   "title_cell": "Table of Contents",
   "title_sidebar": "Contents",
   "toc_cell": false,
   "toc_position": {},
   "toc_section_display": true,
   "toc_window_display": false
  }
 },
 "nbformat": 4,
 "nbformat_minor": 5
}
